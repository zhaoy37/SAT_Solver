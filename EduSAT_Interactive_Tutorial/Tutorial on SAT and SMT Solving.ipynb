{
 "cells": [
  {
   "attachments": {},
   "cell_type": "markdown",
   "metadata": {
    "id": "cOWtrAtG1p5Q",
    "pycharm": {
     "name": "#%% md\n"
    }
   },
   "source": [
    "# 1. Tutorial on SAT Solving (DPLL)\n",
    "\n",
    "This is a tutorial section on using the Davis-Putnam-Logemann-Loveland (DPLL) Algorithm to solve Boolean Satisfiability problems. Many codes in this tutorial can be found (together with references and acknowledgements) in the .py software version in the github: https://github.com/zhaoy37/SAT_Solver. The user can also follow the readme tutorial on the github. We leave any evaluations and solver comparisons to the python version part of the project in case the user is interested."
   ]
  },
  {
   "attachments": {},
   "cell_type": "markdown",
   "metadata": {
    "id": "cXDdBOBX2sti",
    "pycharm": {
     "name": "#%% md\n"
    }
   },
   "source": [
    "## Background on SAT solvers.\n",
    "\n",
    "Imagine that you are provided with a boolean formula P and asked to determine if P is satisfiable. P is satisfiabile if there exists values for each variable such that P evaluates to true. For example, the formula $P = (x1 \\wedge x2) \\vee x3$ is satisfiable because there exists a model {x1 = 1, x2 = 1, x3 = 0} such that the the boolean formula evaluates to true. On the contrary, $P = (x1 \\wedge \\neg x1)$ is not satisfiable. Validity means that the formula evaluates to true for all models.\n",
    "\n",
    "The implication of SAT solving is theoretically supported by the Cook-Levin Theorem, which states that Boolean SAT is NP-complete. Equivalently, any problem in NP can be reduced in polynomial time by a deterministic Turing Machine to a SAT problem. Therefore, many classical NP-complete problems in algorithms, such as graph coloring and sudoku, can be encoded into a SAT Problem representation and solved via a SAT solver."
   ]
  },
  {
   "attachments": {},
   "cell_type": "markdown",
   "metadata": {
    "id": "lFlNokFz3oOD",
    "pycharm": {
     "name": "#%% md\n"
    }
   },
   "source": [
    "## An Auxiliary Structure: A Logic Tree\n",
    "\n",
    "The Davis-Putnam-Logemann-Loveland algorithm (DPLL) is a widely used algorithm in SAT solving. Its basic idea is recursive backtracking search of atom values that meet the satisfiability with some special heuristics. For the rest of the tutorial, we build a DPLL Solver from scratch.\n",
    "\n",
    "We need to be able to represent SAT formulas in a data strucutre. To make things simple, we represent the formulas as lists. The strucuture is recursively determined. For instance, $P = (x1 \\wedge x2) \\vee x3$ can be represented as [\"or\", [\"and\", \"x1\", \"x2\"], \"x3\"]. The possible connectives include \"or\", \"and\", and \"not\".\n",
    "\n",
    "To start with, to be able to quickly capture the properties of a SAT formula defined in list, we develop an auxiliary structure, which upon accepting the the list representation of the SAT formula, converts it to a tree representation in negative normal form (NNF), where the negations are directly in front of SAT atoms. We use the NNF logic tree to facilitate later procedure of the DPLL program."
   ]
  },
  {
   "cell_type": "code",
   "execution_count": 1,
   "metadata": {
    "executionInfo": {
     "elapsed": 1004,
     "status": "ok",
     "timestamp": 1688449038160,
     "user": {
      "displayName": "Yiqi Zhao",
      "userId": "06013860432766583848"
     },
     "user_tz": -480
    },
    "id": "wgljYi6O1kMl",
    "pycharm": {
     "name": "#%%\n"
    }
   },
   "outputs": [],
   "source": [
    "class Logic:\n",
    "\n",
    "    \"\"\"\n",
    "    Constructor\n",
    "\n",
    "    The class takes in a list representation of the formula, and convert it to a\n",
    "    logic tree representation. The converted data structure is a binary tree with\n",
    "    connectives on the top. The left and right leaves are recursively defined binary\n",
    "    trees or root atoms.\n",
    "    \"\"\"\n",
    "    def __init__(self, formula):\n",
    "        self.formula = formula\n",
    "        self.left = None\n",
    "        self.right = None\n",
    "        self.value = self.__convert_formula_to_tree()\n",
    "        self.leaves = self.load_leaves()\n",
    "        self.pure_positives, self.pure_negatives = self.__find_pure_literals()\n",
    "\n",
    "\n",
    "    \"\"\"\n",
    "    Perform an in-oder traversal of the tree for printing.\n",
    "    This member function is majorly constructed for testing purposes.\n",
    "    \"\"\"\n",
    "    def print_tree(self):\n",
    "        if self.left is not None:\n",
    "            self.left.print_tree()\n",
    "        print(self.value)\n",
    "        if self.right is not None:\n",
    "            self.right.print_tree()\n",
    "\n",
    "    \"\"\"\n",
    "    This member function finds the leaves of self. In this case, it finds the set\n",
    "    of all SAT atoms.\n",
    "    \"\"\"\n",
    "    def load_leaves(self):\n",
    "        # Perform an in-order traversal.\n",
    "        leaves = []\n",
    "        if self.left is not None:\n",
    "            leaves.extend(self.left.load_leaves())\n",
    "        if (self.left is None) and (self.right is None):\n",
    "            leaves.append(self.value)\n",
    "        if self.right is not None:\n",
    "            leaves.extend(self.right.load_leaves())\n",
    "        leaves = [leaf for leaf in leaves if (leaf != \"True\" and leaf != \"False\")]\n",
    "        return set(leaves)\n",
    "\n",
    "\n",
    "    \"\"\"\n",
    "    This function finds the number of nodes of the tree.\n",
    "    \"\"\"\n",
    "    def num_of_nodes(self):\n",
    "        if self.left is None and self.right is None:\n",
    "            return 1\n",
    "        else:\n",
    "            if self.left is None:\n",
    "                return 1 + self.right.num_of_nodes()\n",
    "            elif self.right is None:\n",
    "                return 1 + self.left.num_of_nodes()\n",
    "            else:\n",
    "                return 1 + self.left.num_of_nodes() + self.right.num_of_nodes()\n",
    "\n",
    "\n",
    "    \"\"\"\n",
    "    This method evaluates an assignment.\n",
    "    The assignment is in the form of a dictionary mapping variables to boolean values.\n",
    "\n",
    "    For instance, given that the formula P is [\"and\", \"x1\", \"x2\"] and an assignment\n",
    "    {\"x1\" : 1, \"x2\" : 1}, the method should return true.\n",
    "    \"\"\"\n",
    "    def evaluate(self, assignment):\n",
    "        # Check if the assignment dictionary contains and only contains the leaves (excluding true and false) as the keys.\n",
    "        if self.leaves != set(assignment.keys()):\n",
    "            raise Exception(\"The given assignment is not valid\")\n",
    "        return self.__evaluate_assignment_kernel(assignment, self)\n",
    "\n",
    "\n",
    "    \"\"\"\n",
    "    Private methods start here:\n",
    "    \"\"\"\n",
    "\n",
    "    \"\"\"\n",
    "    This member function finds the literals of self.\n",
    "    We use this function to facilitate the later DPLL algorithm.\n",
    "    In the DPLL algorithm, we need to know the pure literals of a formula.\n",
    "    We define the pure literals. The user may refer to the later portion of the material to\n",
    "    see the definition of pure literals.\n",
    "    \"\"\"\n",
    "    def __find_pure_literals(self):\n",
    "        parents = dict()\n",
    "        for leaf in self.leaves:\n",
    "            parents[leaf] = []\n",
    "        # Find the parents of the leaves.\n",
    "        self.__find_parents_kernel(parents)\n",
    "        # Find the pure positive and negative literals.\n",
    "        pure_positives = [leaf for leaf in self.leaves if \"not\" not in parents[leaf]]\n",
    "        pure_negatives = [leaf for leaf in self.leaves if ((\"not\" in parents[leaf]) and len(parents[leaf]) == 1)]\n",
    "        return pure_positives, pure_negatives\n",
    "\n",
    "\n",
    "    \"\"\"\n",
    "    This member function is used in find_pure_literals.\n",
    "    It finds the parents of the leaves.\n",
    "    \"\"\"\n",
    "    def __find_parents_kernel(self, parents):\n",
    "        if self.left is not None:\n",
    "            if self.left.value in self.leaves:\n",
    "                parents[self.left.value].append(self.value)\n",
    "            self.left.__find_parents_kernel(parents)\n",
    "        if self.right is not None:\n",
    "            if self.right.value in self.leaves:\n",
    "                parents[self.right.value].append(self.value)\n",
    "            self.right.__find_parents_kernel(parents)\n",
    "\n",
    "\n",
    "    \"\"\"\n",
    "    This method is the kernel to evaluate a potential assignment.\n",
    "    The assignment is in the form of a dictionary mapping variables to boolean values.\n",
    "    \"\"\"\n",
    "    def __evaluate_assignment_kernel(self, assignment, tree):\n",
    "        if (tree.left is None) and (tree.right is None):\n",
    "            if tree.value == \"True\":\n",
    "                return True\n",
    "            elif tree.value == \"False\":\n",
    "                return False\n",
    "            return assignment[tree.value]\n",
    "        else:\n",
    "            if tree.value == \"not\":\n",
    "                return (not self.__evaluate_assignment_kernel(assignment, tree.right))\n",
    "            elif tree.value == \"and\":\n",
    "                return (self.__evaluate_assignment_kernel(assignment, tree.left) and\n",
    "                        self.__evaluate_assignment_kernel(assignment, tree.right))\n",
    "            else:\n",
    "                return (self.__evaluate_assignment_kernel(assignment, tree.left) or\n",
    "                        self.__evaluate_assignment_kernel(assignment, tree.right))\n",
    "\n",
    "    \"\"\"\n",
    "    Convert parsed logic to a tree in NNF representation recursively.\n",
    "    \"\"\"\n",
    "    def __convert_formula_to_tree(self):\n",
    "        if not isinstance(self.formula, list):\n",
    "            return self.formula\n",
    "        else:\n",
    "            if self.formula[0] == \"not\":\n",
    "                if isinstance(self.formula[1], list) and self.formula[1][0] == \"and\":\n",
    "                    self.left = Logic([\"not\", self.formula[1][1]])\n",
    "                    self.right = Logic([\"not\", self.formula[1][2]])\n",
    "                    return \"or\"\n",
    "                elif isinstance(self.formula[1], list) and self.formula[1][0] == \"or\":\n",
    "                    self.left = Logic([\"not\", self.formula[1][1]])\n",
    "                    self.right = Logic([\"not\", self.formula[1][2]])\n",
    "                    return \"and\"\n",
    "                elif isinstance(self.formula[1], list) and self.formula[1][0] == \"not\":\n",
    "                    equivalence = Logic(self.formula[1][1])\n",
    "                    self.left = equivalence.left\n",
    "                    self.right = equivalence.right\n",
    "                    return equivalence.value\n",
    "                else:\n",
    "                    self.right = Logic(self.formula[1])\n",
    "                    return self.formula[0]\n",
    "            else:\n",
    "                self.left = Logic(self.formula[1])\n",
    "                self.right = Logic(self.formula[2])\n",
    "                return self.formula[0]"
   ]
  },
  {
   "attachments": {},
   "cell_type": "markdown",
   "metadata": {
    "id": "pOtUnS_Z9Z7o",
    "pycharm": {
     "name": "#%% md\n"
    }
   },
   "source": [
    "Let's visualize one example: Here, the input formula is: $P = (\\neg (x1 \\wedge x2)\\wedge x1)$. The list representation is: [\"and\", [\"not\", [\"and\", \"x1\", \"x2\"]], \"x1\"]. Using the Logic class, we convert the formula to a tree structure representing the equivalent formula in NNF: $P = (\\neg x1 \\vee \\neg x2) \\wedge x1$, as shown by the print_tree method, which prints the NNF representation in order."
   ]
  },
  {
   "cell_type": "code",
   "execution_count": 2,
   "metadata": {
    "colab": {
     "base_uri": "https://localhost:8080/"
    },
    "executionInfo": {
     "elapsed": 2,
     "status": "ok",
     "timestamp": 1688449039005,
     "user": {
      "displayName": "Yiqi Zhao",
      "userId": "06013860432766583848"
     },
     "user_tz": -480
    },
    "id": "kWKbzcPM8wxU",
    "outputId": "75f7ea29-4ee2-40cc-9d9a-742804933835",
    "pycharm": {
     "name": "#%%\n"
    }
   },
   "outputs": [
    {
     "name": "stdout",
     "output_type": "stream",
     "text": [
      "not\n",
      "x1\n",
      "or\n",
      "not\n",
      "x2\n",
      "and\n",
      "x1\n"
     ]
    }
   ],
   "source": [
    "logic = Logic([\"and\", [\"not\", [\"and\", \"x1\", \"x2\"]], \"x1\"])\n",
    "logic.print_tree()"
   ]
  },
  {
   "attachments": {},
   "cell_type": "markdown",
   "metadata": {
    "id": "TOsSXUpQYWvF",
    "pycharm": {
     "name": "#%% md\n"
    }
   },
   "source": [
    "## The DPLL Solver\n",
    "\n",
    "The Davis-Putnam-Logemann-Loveland algorithm (DPLL) is a widely used algorithm in SAT solving. Its basic idea is recursive backtracking search of atom values that meet the satisfiability with some special heuristics.\n",
    "\n",
    "Now, we briefly discuss the heuristics used in DPLL: There are two parts of the search algorithm in DPLL. In the recursive backtracking search, the algorithm first decides an assignment. Then, it deduces the assignment by substituting the atoms in the SAT formula with the assignment. If the valuation returns False, the algorithm backtracks to try another assignment if such new assignment is possible. If the algorithm runs out of assignments, the algorithm returns UNSAT. The heuristics in DPLL revolve around heuristics in deciding and deducing.\n",
    "\n",
    "One heuristic in assigning is **Early termination**, which refers to terminating the algorithm if any realization of a variable leads to True or False of a SAT formula regardless the choice of any other variables. If the algorithmn returns False in the early termination, faster backtracking is encouraged. If the algorithm returns True in the early termination, on the other hand, faster path to a solution is found. To give a concrete example, $(A \\vee B) \\wedge (A \\vee \\neg C)$ is satisfied by {A = True}.\n",
    "\n",
    "One heuristic for deciding assignments is **Pure literals**, which states that if all occurrences of a symbol in the clause (assuming a negation normal form) have the same sign accross the clause, we can guess that the symbol is True (if the symbol is positive) or False (if the symbol is negative). This can be done with the assumption that any \"not\" nodes far away from the leaf nodes are transformed to become the parents of the leaf nodes using the rules of De Morgan's Law and double negations (i.e. the SAT formula is in NNF). For instance, in $(A \\vee B) \\wedge (A \\vee \\neg C) \\wedge (C \\vee \\neg B)$, the symbol A is pure and positive. By the heuristic, we should prioritize the decision of setting A to True over setting A to False in the search algorithm.\n",
    "\n",
    "Another heuristic in assigning is **Unit Clauses**, which states that for any clause left with a single literal, we can simplify the clause by realizing that symbol. More broadly speaking, assignments to variables can lead to simplifications. For instance, in the case of {A = False} with $(A \\vee B) \\wedge (A \\vee \\neg C)$, the clause can be simplified to $(B) \\wedge (\\neg C)$\n",
    ".\n",
    "\n",
    "The above heuristics are what we implement in the DPLL solver. There are some more advanced heuristics that can increase the efficiency of the solver that we do not cover in our implementation.\n",
    "\n",
    "Now, we begin with our function to simplify a Boolean formula following necessary heuristics."
   ]
  },
  {
   "cell_type": "code",
   "execution_count": 3,
   "metadata": {
    "executionInfo": {
     "elapsed": 2,
     "status": "ok",
     "timestamp": 1688449039005,
     "user": {
      "displayName": "Yiqi Zhao",
      "userId": "06013860432766583848"
     },
     "user_tz": -480
    },
    "id": "l-7oKuF3bFad",
    "pycharm": {
     "name": "#%%\n"
    }
   },
   "outputs": [],
   "source": [
    "def simplify(target, partial_assignment):\n",
    "    \"\"\"\n",
    "    This function simplifies a formula given an assignment.\n",
    "\n",
    "    target: the formula.\n",
    "    partial_assignment: A possible assignment. An instance for the formula\n",
    "    [\"and\", \"x1\", \"x2\"] is {\"x1\" : 1}.\n",
    "    \"\"\"\n",
    "    if not isinstance(target, list):\n",
    "        # This is the case of a single variable as the target formula.\n",
    "        if target in partial_assignment:\n",
    "            if partial_assignment[target]:\n",
    "                return \"True\"\n",
    "            else:\n",
    "                return \"False\"\n",
    "        else:\n",
    "            return target\n",
    "    else:\n",
    "        if target[0] == \"or\":\n",
    "            left_simplified = simplify(target[1], partial_assignment)\n",
    "            right_simplified = simplify(target[2], partial_assignment)\n",
    "            # Perform simplification.\n",
    "            # Early termination:\n",
    "            if left_simplified == \"True\" or right_simplified == \"True\":\n",
    "                return \"True\"\n",
    "            # Unit clause:\n",
    "            elif left_simplified == \"False\":\n",
    "                return right_simplified\n",
    "            elif right_simplified == \"False\":\n",
    "                return left_simplified\n",
    "            else:\n",
    "                return [\"or\", left_simplified, right_simplified]\n",
    "        elif target[0] == \"and\":\n",
    "            left_simplified = simplify(target[1], partial_assignment)\n",
    "            right_simplified = simplify(target[2], partial_assignment)\n",
    "            # Perform simplification.\n",
    "            # Early termination:\n",
    "            if left_simplified == \"False\" or right_simplified == \"False\":\n",
    "                return \"False\"\n",
    "            # Unit clause:\n",
    "            if left_simplified == \"True\":\n",
    "                return right_simplified\n",
    "            elif right_simplified == \"True\":\n",
    "                return left_simplified\n",
    "            else:\n",
    "                return [\"and\", left_simplified, right_simplified]\n",
    "        else:\n",
    "            right_simplified = simplify(target[1], partial_assignment)\n",
    "            if right_simplified == \"False\":\n",
    "                return \"True\"\n",
    "            elif right_simplified == \"True\":\n",
    "                return \"False\"\n",
    "            else:\n",
    "                return [\"not\", right_simplified]"
   ]
  },
  {
   "attachments": {},
   "cell_type": "markdown",
   "metadata": {
    "id": "7L2zHbZkcAlX",
    "pycharm": {
     "name": "#%% md\n"
    }
   },
   "source": [
    "Let's try some examples to see the heuristics we mentioned earlier."
   ]
  },
  {
   "cell_type": "code",
   "execution_count": 4,
   "metadata": {
    "colab": {
     "base_uri": "https://localhost:8080/"
    },
    "executionInfo": {
     "elapsed": 546,
     "status": "ok",
     "timestamp": 1688449039549,
     "user": {
      "displayName": "Yiqi Zhao",
      "userId": "06013860432766583848"
     },
     "user_tz": -480
    },
    "id": "i6E7E-LZcE54",
    "outputId": "3835a6d7-25c2-4065-b0ae-d5941164e137",
    "pycharm": {
     "name": "#%%\n"
    }
   },
   "outputs": [
    {
     "name": "stdout",
     "output_type": "stream",
     "text": [
      "True\n"
     ]
    }
   ],
   "source": [
    "# Early termination:\n",
    "# (A or B) and (A or not C)\n",
    "target = [\"and\", [\"or\", \"x0\", \"x1\"], [\"or\", \"x0\", [\"not\", \"x2\"]]]\n",
    "print(simplify(target, {\"x0\" : 1}))"
   ]
  },
  {
   "cell_type": "code",
   "execution_count": 5,
   "metadata": {
    "colab": {
     "base_uri": "https://localhost:8080/"
    },
    "executionInfo": {
     "elapsed": 6,
     "status": "ok",
     "timestamp": 1688449039549,
     "user": {
      "displayName": "Yiqi Zhao",
      "userId": "06013860432766583848"
     },
     "user_tz": -480
    },
    "id": "hOtOgDKzdBxH",
    "outputId": "bc89d2d6-8450-4cc2-843a-46262afa26bb",
    "pycharm": {
     "name": "#%%\n"
    }
   },
   "outputs": [
    {
     "name": "stdout",
     "output_type": "stream",
     "text": [
      "['and', 'x1', ['not', 'x2']]\n"
     ]
    }
   ],
   "source": [
    "# Unit clause:\n",
    "# (A or B) and (A or not C)\n",
    "print(simplify(target, {\"x0\" : 0}))"
   ]
  },
  {
   "attachments": {},
   "cell_type": "markdown",
   "metadata": {
    "id": "IJd5i2pwdQdx",
    "pycharm": {
     "name": "#%% md\n"
    }
   },
   "source": [
    "Now, let's look into the recursive backtracking part. We only focus on the solver that requires a single solution in our tutorial. For more comprehensive version, feel free to look into our python implementation."
   ]
  },
  {
   "cell_type": "code",
   "execution_count": 6,
   "metadata": {
    "executionInfo": {
     "elapsed": 5,
     "status": "ok",
     "timestamp": 1688449039549,
     "user": {
      "displayName": "Yiqi Zhao",
      "userId": "06013860432766583848"
     },
     "user_tz": -480
    },
    "id": "MixC3knQewlf",
    "pycharm": {
     "name": "#%%\n"
    }
   },
   "outputs": [],
   "source": [
    "# This is the entry point of our solver.\n",
    "def solve_kernel_with_heuristic(target, variable_list, cur_assignment, pure_positives, pure_negatives, solutions):\n",
    "    \"\"\"\n",
    "    This is the kernel for the solve function. It implements recursive backtracking.\n",
    "\n",
    "    target: The SAT formula to be solved.\n",
    "    variable_list: a list of SAT atoms.\n",
    "    cur_assignment: We keep track of our current assignment in the recursive backtracking here.\n",
    "    pure_positives: a list of SAT atoms that are pure positives.\n",
    "    pure_negatives: a list of SAT atoms that are pure negatives.\n",
    "    solutions: We keep track of our solution(s) in this data structure along the recursive backtracking process.\n",
    "    \"\"\"\n",
    "    if len(cur_assignment.keys()) >= len(variable_list):\n",
    "        # Base case: Reaches the end of assignment.\n",
    "        return False\n",
    "    else:\n",
    "        index = len(cur_assignment.keys())\n",
    "        variable = variable_list[index]\n",
    "        # Perform the heuristic on pure literals.\n",
    "        if variable in pure_positives:\n",
    "            return solve_single(index, variable, target, variable_list, cur_assignment, pure_positives,\n",
    "                                pure_negatives, solutions, [1, 0])\n",
    "        else:\n",
    "            return solve_single(index, variable, target, variable_list, cur_assignment, pure_positives,\n",
    "                                pure_negatives, solutions, [0, 1])\n",
    "\n",
    "\n",
    "# Now, we check out the solving procedure.\n",
    "def solve_single(index, variable, target, variable_list, cur_assignment, pure_positives, pure_negatives,\n",
    "                 solutions, ordering):\n",
    "    \"\"\"\n",
    "    This function handles the case with solving for one solution only.\n",
    "\n",
    "    cur_assignment: We keep track of our current assignment in the recursive backtracking here.\n",
    "    \"\"\"\n",
    "    # Assign ordering[0] to the variable and try to simplify.\n",
    "    new_assignment = cur_assignment.copy()\n",
    "    new_assignment[variable] = ordering[0]\n",
    "    simplified = simplify(target, new_assignment)\n",
    "    # Case True following assigning ordering[0] to the variable: Return the correct answer.\n",
    "    if simplified == \"True\":\n",
    "        # Complete assignment.\n",
    "        for i in range(index + 1, len(variable_list)):\n",
    "            new_assignment[variable_list[i]] = 1\n",
    "        solutions.append(new_assignment)\n",
    "        return True\n",
    "    # Case False following assigning ordering[0] to the variable: Try switch to ordering[1] and re-evaluate.\n",
    "    elif simplified == \"False\":\n",
    "        new_assignment[variable] = ordering[1]\n",
    "        simplified = simplify(target, new_assignment)\n",
    "        # If the solver attains true, return the correct answer.\n",
    "        return further_search(index, simplified, variable_list, new_assignment, pure_positives, pure_negatives,\n",
    "                              solutions)\n",
    "    else:\n",
    "        # The solver is inconclusive after assigning ordering[0] to the variable. Try to further simplify the formula.\n",
    "        if solve_kernel_with_heuristic(simplified, variable_list, new_assignment, pure_positives,\n",
    "                                       pure_negatives, solutions):\n",
    "            return True\n",
    "        else:\n",
    "            # In this case, the solver resolves to false/inconclusive for assigning ordering[0] to the variable.\n",
    "            new_assignment[variable] = ordering[1]\n",
    "            simplified = simplify(target, new_assignment)\n",
    "            return further_search(index, simplified, variable_list, new_assignment, pure_positives, pure_negatives,\n",
    "                                  solutions)\n",
    "\n",
    "\n",
    "# We require a further search step, which we present here:\n",
    "def further_search(index, simplified, variable_list, new_assignment, pure_positives,\n",
    "                   pure_negatives, solutions):\n",
    "    \"\"\"\n",
    "    This function is used in solve_single for further searching and serves to help clean the codes.\n",
    "    \"\"\"\n",
    "    if simplified == \"True\":\n",
    "        # Complete assignment.\n",
    "        for i in range(index + 1, len(variable_list)):\n",
    "            new_assignment[variable_list[i]] = 1\n",
    "        solutions.append(new_assignment)\n",
    "        return True\n",
    "    elif simplified == \"False\":\n",
    "        # The assignment must be false.\n",
    "        return False\n",
    "    else:\n",
    "        return solve_kernel_with_heuristic(simplified, variable_list, new_assignment,\n",
    "                                           pure_positives, pure_negatives, solutions)"
   ]
  },
  {
   "attachments": {},
   "cell_type": "markdown",
   "metadata": {
    "id": "olR-11-0jwtT",
    "pycharm": {
     "name": "#%% md\n"
    }
   },
   "source": [
    "Now, let's write a function to initiate the kernel."
   ]
  },
  {
   "cell_type": "code",
   "execution_count": 7,
   "metadata": {
    "executionInfo": {
     "elapsed": 5,
     "status": "ok",
     "timestamp": 1688449039549,
     "user": {
      "displayName": "Yiqi Zhao",
      "userId": "06013860432766583848"
     },
     "user_tz": -480
    },
    "id": "78aiIcROj3QQ",
    "pycharm": {
     "name": "#%%\n"
    }
   },
   "outputs": [],
   "source": [
    "def solve(tree):\n",
    "    \"\"\"\n",
    "    This is the main entry point for solving the formula using DPLL.\n",
    "\n",
    "    The input is a SAT formula in its tree representation.\n",
    "    \"\"\"\n",
    "    # Call the recursive backtracking kernel.\n",
    "    variable_list = list(tree.leaves)\n",
    "    solutions = []\n",
    "    # Tree Heuristic automatically enabled in this branch.\n",
    "    cur_assignment = dict()\n",
    "    target = tree.formula\n",
    "    solve_kernel_with_heuristic(target, variable_list, cur_assignment, tree.pure_positives, tree.pure_negatives, solutions)\n",
    "    # Detect pure literals if assignment_heuristic_enabled: To be implemented later\n",
    "    if len(solutions) == 0:\n",
    "            return \"UNSAT\"\n",
    "    else:\n",
    "        return solutions[0]"
   ]
  },
  {
   "attachments": {},
   "cell_type": "markdown",
   "metadata": {
    "id": "CvBD2PxHkVG5",
    "pycharm": {
     "name": "#%% md\n"
    }
   },
   "source": [
    "Let's try some examples:"
   ]
  },
  {
   "cell_type": "code",
   "execution_count": 8,
   "metadata": {
    "colab": {
     "base_uri": "https://localhost:8080/"
    },
    "executionInfo": {
     "elapsed": 5,
     "status": "ok",
     "timestamp": 1688449039549,
     "user": {
      "displayName": "Yiqi Zhao",
      "userId": "06013860432766583848"
     },
     "user_tz": -480
    },
    "id": "Q_iZ6hgokZ1_",
    "outputId": "4497b06c-c021-41b5-aed7-3a89f20d5d08",
    "pycharm": {
     "name": "#%%\n"
    }
   },
   "outputs": [
    {
     "data": {
      "text/plain": [
       "{'x2': 1, 'x1': 1}"
      ]
     },
     "execution_count": 8,
     "metadata": {},
     "output_type": "execute_result"
    }
   ],
   "source": [
    "# Example 1: x1 and x2\n",
    "formula = [\"and\", \"x1\", \"x2\"]\n",
    "tree = Logic(formula)\n",
    "solve(tree)"
   ]
  },
  {
   "cell_type": "code",
   "execution_count": 9,
   "metadata": {
    "colab": {
     "base_uri": "https://localhost:8080/",
     "height": 35
    },
    "executionInfo": {
     "elapsed": 4,
     "status": "ok",
     "timestamp": 1688449039549,
     "user": {
      "displayName": "Yiqi Zhao",
      "userId": "06013860432766583848"
     },
     "user_tz": -480
    },
    "id": "xYDt6L22lOV0",
    "outputId": "8b3d1feb-6de8-41f2-a4e0-5cfb25416077",
    "pycharm": {
     "name": "#%%\n"
    }
   },
   "outputs": [
    {
     "data": {
      "application/vnd.google.colaboratory.intrinsic+json": {
       "type": "string"
      },
      "text/plain": [
       "'UNSAT'"
      ]
     },
     "execution_count": 9,
     "metadata": {},
     "output_type": "execute_result"
    }
   ],
   "source": [
    "# Example 2: x1 and (not (x2 or x1))\n",
    "formula = [\"and\", \"x1\", [\"not\", [\"or\", \"x2\", \"x1\"]]]\n",
    "tree = Logic(formula)\n",
    "solve(tree)"
   ]
  },
  {
   "cell_type": "code",
   "execution_count": 10,
   "metadata": {
    "colab": {
     "base_uri": "https://localhost:8080/"
    },
    "executionInfo": {
     "elapsed": 4,
     "status": "ok",
     "timestamp": 1688449039549,
     "user": {
      "displayName": "Yiqi Zhao",
      "userId": "06013860432766583848"
     },
     "user_tz": -480
    },
    "id": "Jxb25f7WmILW",
    "outputId": "044ee9b7-4d5d-469c-b796-ddea54b78683",
    "pycharm": {
     "name": "#%%\n"
    }
   },
   "outputs": [
    {
     "data": {
      "text/plain": [
       "{'x1': 1}"
      ]
     },
     "execution_count": 10,
     "metadata": {},
     "output_type": "execute_result"
    }
   ],
   "source": [
    "# Example 3: x1\n",
    "formula = \"x1\"\n",
    "tree = Logic(formula)\n",
    "solve(tree)"
   ]
  },
  {
   "attachments": {},
   "cell_type": "markdown",
   "metadata": {
    "id": "yIw7PLuJcfZ8",
    "pycharm": {
     "name": "#%% md\n"
    }
   },
   "source": [
    "# 2. Tutorial on SAT Solving (ROBDD)\n",
    "\n",
    "A Binary Decision Tree (BDT) is a tree structure that is commonly used to represent logical formulas. In a BDT, the nodes of the tree represent variables, and the branches represent the values that these variables can take on. Specifically, the branch where its parent node evaluates to true is called the high branch, while the branch where its parent node evaluates to false is called the low branch. The high branch leads to the high child of a parent node, while the low branch leads to the low child of a parent. The leaf nodes of a BDT evaluate to either true or false, which are the outcomes of the test values of each variable. When using ROBDD for SAT solving, we follow the same logic structure and parser as introduced above. "
   ]
  },
  {
   "cell_type": "code",
   "execution_count": 3,
   "metadata": {
    "pycharm": {
     "name": "#%%\n"
    }
   },
   "outputs": [
    {
     "name": "stdout",
     "output_type": "stream",
     "text": [
      "[{'x1': 1, 'x2': 1}]\n",
      "UNSAT\n",
      "[{'x1': 1}]\n"
     ]
    }
   ],
   "source": [
    "## import the robdd solver functions and methods\n",
    "import sys  \n",
    "sys.path.insert(0, '../bdd/')\n",
    "import robdd_solver\n",
    "\n",
    "# let's try an example\n",
    "sat_formula = [\"and\", \"x1\", \"x2\"]\n",
    "result_d = robdd_solver.solve(sat_formula, get_time=False, multiple=True)\n",
    "print(result_d)\n",
    "\n",
    "# a third example\n",
    "sat_formula = [\"and\", \"x1\", [\"not\", [\"or\", \"x2\", \"x1\"]]]\n",
    "result_d = robdd_solver.solve(sat_formula, get_time=False, multiple=True)\n",
    "print(result_d)\n",
    "\n",
    "# a simple example\n",
    "sat_formula = \"x1\"\n",
    "result_d = robdd_solver.solve(sat_formula, get_time=False, multiple=True)\n",
    "print(result_d)"
   ]
  },
  {
   "attachments": {},
   "cell_type": "markdown",
   "metadata": {
    "id": "jZPA9QVvbhcH",
    "pycharm": {
     "name": "#%% md\n"
    }
   },
   "source": [
    "# 3. Tutorial on SMT Solving\n",
    "\n",
    "This is a tutorial section on SMT solving using recursive backtracking and min-conflicts. Many codes in this tutorial can be found (together with references and acknowledgements) in the .py software version in the github: https://github.com/zhaoy37/SAT_Solver. The user can also follow the readme tutorial on the github. We leave any evaluations and solver comparisons to the python version part of the project in case the user is interested."
   ]
  },
  {
   "attachments": {},
   "cell_type": "markdown",
   "metadata": {
    "id": "iQxNLXncbpXX",
    "pycharm": {
     "name": "#%% md\n"
    }
   },
   "source": [
    "## Background on SMT Solving\n",
    "\n",
    "The SMT problem is similar to the SAT Problem with the exception that the formulas are many-sorted. In our project, we only consider the SMT problem over integer predicates with no support for arithmetic operators that are not in the set of $=, \\le, \\ge, <, >, \\neq, +, -, *, //$ because this representation scheme is all we need to solve the problems in the /problems folder. However, such scheme can be easily expanded to a broader set of operators and predicate domains.\n",
    "\n",
    "One example of an SMT problem is: $(y1 \\le 2) \\wedge (y2 = 3)$. This SMT formula is satisifed by $\\{\"y1\" : 0, \"y2\" : 3\\}$. We will create a function **solve_SMT** to solve SMT problems. The function accepts 5 parameters as a representation of the SMT formula to be solved:\n",
    "\n",
    "\\\\\n",
    "\n",
    "**sat_formula**: The SAT encoding of the SMT clauses. Semantically, each atom in the encoding maps to one SMT subclause (True and False are not used in sat_formula for SMT encoding). For instance, for the formula $(y1 \\le 2) \\wedge (y2 = 3)$, the sat_formula parameter is [\"and\", \"x1\", \"x2\"], where \"x1\" and \"x2\" map to the two SMT subclauses $(y1 \\le 2)$ and $(y2 = 3)$ respectively. The syntax follows the following BNF:\n",
    "$<sat\\_formula> := <atom> | [\"and\", <sat\\_formula>, <sat\\_formula>] | [\"or\", <sat\\_formula>, <sat\\_formula>] | [\"not\", <sat\\_formula>]$\n",
    "\n",
    "$<atom> := r\"x[0-9]+\"$\n",
    "\n",
    "\\\\\n",
    "\n",
    "**encodings**: The SMT encoding is a dictionary mapping each atom from the SAT encoding to an SMT clause. For the formula $(y1 \\le 2) \\wedge (y2 = 3)$, the SMT encoding is $\\{\"x1\" : [\"le\", \"y1\", 2], \"x2\" : [\"eq\", \"y2\", 3]\\}$. The syntax follows the following BNF:\n",
    "\n",
    "$<smt\\_formula> := [<operator>, <expression>, <expression>]$\n",
    "\n",
    "$<operator> := \"le\" | \"ge\" | \"eq\" | \"lt\" | \"gt\" | \"nq\"$\n",
    "\n",
    "$<expression>$ is any integer or string with mathematical expressions with allowed operators without using r'x[0-9]\\*' or r'X[0-9]\\*'.\n",
    "\n",
    "Semantically, \"le\" stands for $\\le$, \"ge\" stands for $\\ge$, \"lt\" stands for <, \"gt\" stands for >, \"eq\" stands for =, and \"nq\" stands for $\\neq$. The SMT formula $[<operator>, <expression1>, <expression2>]$ represents $<expression1> <operator> <expression2>$. For example, [\"lt\", \"y1\", 2] means y1 < 2, and [\"nq\", \"y1 + 3 * y2\", \"y2\"] means $y1 + 3 * y2 \\neq y2$.\n",
    "\n",
    "\\\\\n",
    "\n",
    "**smt_vars**: This is the list of all the variables used in the SMT encoding. For the example of $(y1 \\le 2)$ and $(y2 = 3)$, this would be [\"y1\", \"y2\"].\n",
    "\n",
    "\\\\\n",
    "\n",
    "**lowerbound**: Semantically, this is the lower bound of the search space (the lower bound of that any SMT variable can be assigned to). If the solution is outside of the search space, we do not guarantee the correctness.\n",
    "\n",
    "\\\\\n",
    "\n",
    "**upperbound**: Semantically, this is the upper bound of the search space (the upper bound of that any SMT variable can be assigned to). If the solution is outside of the search space, we do not guarantee the correctness.\n",
    "\n",
    "\\\\\n",
    "\n",
    "As an example, to solve $(y1 \\le 2) \\wedge (y2 = 3)$ with the bounds $0 \\le y1, y2 \\le 10$, call the function like this: solve_SMT([\"and\", \"x1\", \"x2\"], {\"x1\": [\"le\", \"y1\", 2], \"x2\": [\"eq\", \"y2\", 3]}, [\"y1\", \"y2\"], 0, 10).\n",
    "\n",
    "To solve $(y1 - 2 = y2) \\wedge (y2 + y1 > 5)$ with the bounds $0 \\le y1, y2 \\le 10$, call the function like this: solve_SMT([\"and\", \"x1\", \"x2\"], {\"x1\": [\"eq\", \"y1 - 2\", \"y2\"], \"x2\": [\"gt\", \"y2 + y1\", 5]}, [\"y1\", \"y2\"], 0, 10)."
   ]
  },
  {
   "attachments": {},
   "cell_type": "markdown",
   "metadata": {
    "id": "jETlwd4amhZk",
    "pycharm": {
     "name": "#%% md\n"
    }
   },
   "source": [
    "Let's first write the kernel of solving using recursive backtracking. The solver kernel uses recursive backtracking to search through the search space of possible assignments, the space of the close intervals from the preselected lowerbound to the upperbound for each SMT variable. In the aforementioned example execution, the algorithm will try the sequence of assignnments {\"y1\" : 0, \"y2\" : 0}, {\"y1\" : 0, \"y2\" : 1} ... until {\"x1\": True, \"x2\": True} is the mapping{\"x1\" : [\"le\", \"y1\", 2], \"x2\" : [\"lt\", \"y2\", 1]} -> {\"x1\": True, \"x2\": True} is satisfied. The solver concludes unsatisfiability when the search space runs out for all possible solutions to the SAT encoding."
   ]
  },
  {
   "cell_type": "code",
   "execution_count": 11,
   "metadata": {
    "colab": {
     "base_uri": "https://localhost:8080/"
    },
    "executionInfo": {
     "elapsed": 8550,
     "status": "ok",
     "timestamp": 1688449048096,
     "user": {
      "displayName": "Yiqi Zhao",
      "userId": "06013860432766583848"
     },
     "user_tz": -480
    },
    "id": "sNh2HUvdnjqs",
    "outputId": "dd1b1964-1206-485f-836a-fc2f095590b4",
    "pycharm": {
     "name": "#%%\n"
    }
   },
   "outputs": [
    {
     "name": "stdout",
     "output_type": "stream",
     "text": [
      "Requirement already satisfied: ply in /usr/local/lib/python3.10/dist-packages (3.11)\n",
      "Drive already mounted at /content/drive; to attempt to forcibly remount, call drive.mount(\"/content/drive\", force_remount=True).\n"
     ]
    }
   ],
   "source": [
    "from google.colab import drive\n",
    "import os\n",
    "\n",
    "!pip install ply\n",
    "drive.mount(\"/content/drive\")\n",
    "os.chdir(\"/content/drive/MyDrive/EduSAT_Interactive_Tutorial\")\n",
    "# We will use a function from a python file. Please edit the previous line to match up with your own directory.\n",
    "from calculator import calculate\n",
    "\n",
    "def evaluate_assignment(converted, assignment):\n",
    "    \"\"\"\n",
    "    This is a function to evaluate an assignment given a converted formula:\n",
    "\n",
    "    converted: This is the converted SMT encoding where each clause have to be true in the SAT encoding.\n",
    "    The user is encouraged to jump to the solve_smt function for a better understanding.\n",
    "\n",
    "    We will provide a function to generate the \"converted\" data strucutre shortly.\n",
    "    For now, assume that all clauses in \"converted\" must be true for the SMT clause to be satisfied.\n",
    "\n",
    "    assignment: an assignment to the formula.\n",
    "    \"\"\"\n",
    "    for formula in converted:\n",
    "        # Realize the variables.\n",
    "        try:\n",
    "          # We use a calculator that we built to calculate the result of a subclause given an assignment.\n",
    "            var1 = calculate(formula[1], assignment)\n",
    "            var2 = calculate(formula[2], assignment)\n",
    "        except ZeroDivisionError:\n",
    "            return False\n",
    "\n",
    "        operator = formula[0]\n",
    "        # Perform checking.\n",
    "        if operator == \"lt\":\n",
    "            if var1 >= var2:\n",
    "                return False\n",
    "        elif operator == \"gt\":\n",
    "            if var1 <= var2:\n",
    "                return False\n",
    "        elif operator == \"ge\":\n",
    "            if var1 < var2:\n",
    "                return False\n",
    "        elif operator == \"le\":\n",
    "            if var1 > var2:\n",
    "                return False\n",
    "        elif operator == \"eq\":\n",
    "            if var1 != var2:\n",
    "                return False\n",
    "        else:\n",
    "            if var1 == var2:\n",
    "                return False\n",
    "    return True"
   ]
  },
  {
   "cell_type": "code",
   "execution_count": 12,
   "metadata": {
    "executionInfo": {
     "elapsed": 10,
     "status": "ok",
     "timestamp": 1688449048097,
     "user": {
      "displayName": "Yiqi Zhao",
      "userId": "06013860432766583848"
     },
     "user_tz": -480
    },
    "id": "dhWgVlozbj7N",
    "pycharm": {
     "name": "#%%\n"
    }
   },
   "outputs": [],
   "source": [
    "# This is the kernel to the SMT solver.\n",
    "def solve_SMT_kernel(converted, smt_vars, lowerbound, upperbound, cur_assignment):\n",
    "    \"\"\"\n",
    "    converted: This is the converted SMT encoding where each clause have to be true in the SAT encoding.\n",
    "    smt_vars: A list of SMT variables.\n",
    "    lowerbound: The lower bound of the search space.\n",
    "    upperbound: the upper bound of the search space.\n",
    "    cur_assignment: The current assignment in the recursive backtracking process.\n",
    "    \"\"\"\n",
    "    if len(smt_vars) == len(cur_assignment):\n",
    "        choice_assignment = dict()\n",
    "        for i in range(len(smt_vars)):\n",
    "            choice_assignment[smt_vars[i]] = cur_assignment[i]\n",
    "        return evaluate_assignment(converted, choice_assignment), choice_assignment\n",
    "    else:\n",
    "        for choice in range(lowerbound, upperbound + 1):\n",
    "            temp_assignment = cur_assignment.copy()\n",
    "            temp_assignment.append(choice)\n",
    "            success, solution = solve_SMT_kernel(converted, smt_vars, lowerbound, upperbound, temp_assignment)\n",
    "            if success:\n",
    "                return success, solution\n",
    "        # We return False and an empty solution if UNSAT.\n",
    "        return False, {}"
   ]
  },
  {
   "cell_type": "code",
   "execution_count": 13,
   "metadata": {
    "colab": {
     "base_uri": "https://localhost:8080/"
    },
    "executionInfo": {
     "elapsed": 8,
     "status": "ok",
     "timestamp": 1688449048097,
     "user": {
      "displayName": "Yiqi Zhao",
      "userId": "06013860432766583848"
     },
     "user_tz": -480
    },
    "id": "c_mYBdORqBKx",
    "outputId": "ff1e53b0-5d8c-47a0-c0a1-fc3ec14f60d3",
    "pycharm": {
     "name": "#%%\n"
    }
   },
   "outputs": [
    {
     "data": {
      "text/plain": [
       "(True, {'y1': 0, 'y2': 10})"
      ]
     },
     "execution_count": 13,
     "metadata": {},
     "output_type": "execute_result"
    }
   ],
   "source": [
    "# Let's try an example on the kernel.\n",
    "solve_SMT_kernel([[\"le\", \"y1\", 2],[\"ge\", \"y2 + y1\", 10]], [\"y1\", \"y2\"], 0, 10, [])"
   ]
  },
  {
   "attachments": {},
   "cell_type": "markdown",
   "metadata": {
    "id": "xTSCJqkIrS7y",
    "pycharm": {
     "name": "#%% md\n"
    }
   },
   "source": [
    "Now, let's try the minconflicts method. The kernel uses the min-conflicts algorithm commonly used for solving Constraint Satisfaction Problem. The algorithm first randomly initializes the values (given the bounds) for the set of all SMT variables. While the assignment does not satisfy the formula, the algorithm randomly pick a variable from all the set of SMT variables that result in conflict(s), and find the value that best reduces the conflicts associated with that variable to update the assignment (the value found is equivalent to the value that best reduces the conflicts in the existing state of the assignment). The algorithm terminates when an assignment is found to satisfy the SMT formula or when the maximum number of iteration steps is achieved. **Please note that \"UNSAT\" may be found even if there exists a solution if the maximum iteration steps is not sufficiently large.** However, this approach can be faster than the naive backtracking approach when applied to some of our NP-complete problem solver(s) such as the N-queens problem solver."
   ]
  },
  {
   "cell_type": "code",
   "execution_count": 14,
   "metadata": {
    "executionInfo": {
     "elapsed": 7,
     "status": "ok",
     "timestamp": 1688449048097,
     "user": {
      "displayName": "Yiqi Zhao",
      "userId": "06013860432766583848"
     },
     "user_tz": -480
    },
    "id": "5FfPPG3cr6hK",
    "pycharm": {
     "name": "#%%\n"
    }
   },
   "outputs": [],
   "source": [
    "import random\n",
    "\n",
    "# I write a helper function to check if s is an integer (represented in string type).\n",
    "def check_int(s):\n",
    "    # I used the codes from here: https://stackoverflow.com/questions/1265665/how-can-i-check-if-a-string-represents-an-int-without-using-try-except\n",
    "    if s[0] in ('-', '+'):\n",
    "        return s[1:].isdigit()\n",
    "    return s.isdigit()\n",
    "\n",
    "def find_num_conflicts(converted, assignment):\n",
    "    # This function calculates the total number of conflicts instead of the conflicts caused\n",
    "    # by the variable of interest (The argmin should be equivalent).\n",
    "    num_conflicts = 0\n",
    "    for formula in converted:\n",
    "        conflict_flag = False\n",
    "        # Realize the variables.\n",
    "        try:\n",
    "            var1 = calculate(formula[1], assignment)\n",
    "            var2 = calculate(formula[2], assignment)\n",
    "        except ZeroDivisionError:\n",
    "            num_conflicts += 1\n",
    "            continue\n",
    "        operator = formula[0]\n",
    "\n",
    "        # Perform checking.\n",
    "        if operator == \"lt\":\n",
    "            if var1 >= var2:\n",
    "                conflict_flag =  True\n",
    "        elif operator == \"gt\":\n",
    "            if var1 <= var2:\n",
    "                conflict_flag =  True\n",
    "        elif operator == \"ge\":\n",
    "            if var1 < var2:\n",
    "                conflict_flag =  True\n",
    "        elif operator == \"le\":\n",
    "            if var1 > var2:\n",
    "                conflict_flag =  True\n",
    "        elif operator == \"eq\":\n",
    "            if var1 != var2:\n",
    "                conflict_flag =  True\n",
    "        else:\n",
    "            if var1 == var2:\n",
    "                conflict_flag =  True\n",
    "        num_conflicts += conflict_flag\n",
    "    return num_conflicts\n",
    "\n",
    "\n",
    "def find_conflicted_variables(converted, assignment):\n",
    "    conflicted = set()\n",
    "\n",
    "    # This function is used for the min-conflicts kernel and find the variables in conflicts.\n",
    "    for formula in converted:\n",
    "        conflict_flag = False\n",
    "        try:\n",
    "            var1 = calculate(formula[1], assignment)\n",
    "            var2 = calculate(formula[2], assignment)\n",
    "        except ZeroDivisionError:\n",
    "            vars_of_interest = []\n",
    "            if type(formula[1]) == str:\n",
    "                vars_of_interest.extend(re.findall(\"y[0-9]+\", formula[1]))\n",
    "            if type(formula[2]) == str:\n",
    "                vars_of_interest.extend(re.findall(\"y[0-9]+\", formula[2]))\n",
    "\n",
    "            for var in vars_of_interest:\n",
    "                conflicted.add(var)\n",
    "            continue\n",
    "\n",
    "        operator = formula[0]\n",
    "\n",
    "        # Perform checking.\n",
    "        if operator == \"lt\":\n",
    "            if var1 >= var2:\n",
    "                conflict_flag = True\n",
    "        elif operator == \"gt\":\n",
    "            if var1 <= var2:\n",
    "                conflict_flag = True\n",
    "        elif operator == \"ge\":\n",
    "            if var1 < var2:\n",
    "                conflict_flag = True\n",
    "        elif operator == \"le\":\n",
    "            if var1 > var2:\n",
    "                conflict_flag = True\n",
    "        elif operator == \"eq\":\n",
    "            if var1 != var2:\n",
    "                conflict_flag = True\n",
    "        else:\n",
    "            if var1 == var2:\n",
    "                conflict_flag = True\n",
    "\n",
    "        # Adding in the variables if necessary.\n",
    "        if conflict_flag:\n",
    "            vars_of_interest = []\n",
    "            if type(formula[1]) == str:\n",
    "                vars_of_interest.extend(re.findall(\"y[0-9]+\", formula[1]))\n",
    "            if type(formula[2]) == str:\n",
    "                vars_of_interest.extend(re.findall(\"y[0-9]+\", formula[2]))\n",
    "\n",
    "            for var in vars_of_interest:\n",
    "                conflicted.add(var)\n",
    "\n",
    "    return conflicted\n",
    "\n",
    "# This is the kernel for solving SMT using min-conflicts from Constraint Satisfaction Problem.\n",
    "# This algorithm can result in UNSAT even there exists a solution if the argument max_steps is too small.\n",
    "def solve_SMT_minconflicts_kernel(converted, smt_vars, lowerbound, upperbound, max_steps = 100):\n",
    "    # Initially, randomly assign values to smt_vars.\n",
    "    cur_assignment = dict()\n",
    "    for var in smt_vars:\n",
    "        cur_assignment[var] = random.randint(lowerbound, upperbound)\n",
    "\n",
    "    for i in range(max_steps):\n",
    "        if evaluate_assignment(converted, cur_assignment):\n",
    "            return True, cur_assignment\n",
    "        # Find all conflicted variables.\n",
    "        conflicted_vars = list(find_conflicted_variables(converted, cur_assignment))\n",
    "        if len(conflicted_vars) == 0:\n",
    "            # There is no conflicted variable but the assignment evaluates to False.\n",
    "            return False, {}\n",
    "        # Randomly choose one conflicted variable.\n",
    "        rand_index = random.randint(0, len(conflicted_vars) - 1)\n",
    "        conflicted_var = conflicted_vars[rand_index]\n",
    "        # Search for the value that minimizes the number of conflicts.\n",
    "        conflicts_values= dict()\n",
    "        best_num_conflicts = float(\"inf\")\n",
    "        for value in range(lowerbound, upperbound + 1):\n",
    "            temp_assignment = cur_assignment.copy()\n",
    "            temp_assignment[conflicted_var] = value\n",
    "            num_conflicts = find_num_conflicts(converted, temp_assignment)\n",
    "            if num_conflicts < best_num_conflicts:\n",
    "                best_num_conflicts = num_conflicts\n",
    "\n",
    "            if num_conflicts not in conflicts_values:\n",
    "                conflicts_values[num_conflicts] = [value]\n",
    "            else:\n",
    "                conflicts_values[num_conflicts].append(value)\n",
    "\n",
    "        # Break any tie randomly.\n",
    "        possible_values = conflicts_values[best_num_conflicts]\n",
    "        rand_index = random.randint(0, len(possible_values) - 1)\n",
    "        best_value = possible_values[rand_index]\n",
    "        cur_assignment[conflicted_var] = best_value\n",
    "\n",
    "    return False, {}"
   ]
  },
  {
   "cell_type": "code",
   "execution_count": 15,
   "metadata": {
    "colab": {
     "base_uri": "https://localhost:8080/"
    },
    "executionInfo": {
     "elapsed": 8,
     "status": "ok",
     "timestamp": 1688449048098,
     "user": {
      "displayName": "Yiqi Zhao",
      "userId": "06013860432766583848"
     },
     "user_tz": -480
    },
    "id": "d5TTxdtmtGPf",
    "outputId": "d33bfd00-a526-4b31-bc11-15657a66196f",
    "pycharm": {
     "name": "#%%\n"
    }
   },
   "outputs": [
    {
     "data": {
      "text/plain": [
       "(True, {'y1': 1, 'y2': 9})"
      ]
     },
     "execution_count": 15,
     "metadata": {},
     "output_type": "execute_result"
    }
   ],
   "source": [
    "# Let's try an example on the kernel.\n",
    "solve_SMT_minconflicts_kernel([[\"le\", \"y1\", 2],[\"ge\", \"y2 + y1\", 10]], [\"y1\", \"y2\"], 0, 10)"
   ]
  },
  {
   "attachments": {},
   "cell_type": "markdown",
   "metadata": {
    "id": "H9E5rInwteZv",
    "pycharm": {
     "name": "#%% md\n"
    }
   },
   "source": [
    "Now, let's organize the kernels in one function solve_SMT."
   ]
  },
  {
   "cell_type": "code",
   "execution_count": 16,
   "metadata": {
    "executionInfo": {
     "elapsed": 6,
     "status": "ok",
     "timestamp": 1688449048098,
     "user": {
      "displayName": "Yiqi Zhao",
      "userId": "06013860432766583848"
     },
     "user_tz": -480
    },
    "id": "oyPoH2_BtkFz",
    "pycharm": {
     "name": "#%%\n"
    }
   },
   "outputs": [],
   "source": [
    "from solver import solve\n",
    "\n",
    "# Currently, the SMT solver only supports single solution\n",
    "# (because I only need 1 for the NP-complete problem to be solved).\n",
    "# The users are encouraged to extend the SMT solver to allow multiple solutions.\n",
    "def solve_SMT(sat_formula, encodings, smt_vars, lowerbound, upperbound, method = \"minconflicts\"):\n",
    "    \"\"\"\n",
    "    The list of all possible methods include:\n",
    "\n",
    "    1. backtracking: The naive backtracking approach with a DPLL SAT Solver.\n",
    "    3. minconflicts (default): The min-conflicts solver for constraint satisfaction problem.\n",
    "    \"\"\"\n",
    "    # First, solve the sat_formula.\n",
    "    tree = Logic(sat_formula)\n",
    "    # We will use the multiple solution solver from DPLL (which we will not present here for simplicity.)\n",
    "    sat_solutions = solve(tree, multiple = True)\n",
    "\n",
    "    if sat_solutions == \"UNSAT\":\n",
    "        return \"UNSAT\"\n",
    "\n",
    "    for sat_solution in sat_solutions:\n",
    "        # Convert all negative clauses to positive ones.\n",
    "        converted = []\n",
    "        for sat_atom in encodings:\n",
    "            encoding = encodings[sat_atom].copy()\n",
    "            if sat_solution[sat_atom]:\n",
    "                converted.append(encoding)\n",
    "            else:\n",
    "                if encoding[0] == \"le\":\n",
    "                    encoding[0] = \"gt\"\n",
    "                elif encoding[0] == \"ge\":\n",
    "                    encoding[0] = \"lt\"\n",
    "                elif encoding[0] == \"gt\":\n",
    "                    encoding[0] = \"le\"\n",
    "                elif encoding[0] == \"lt\":\n",
    "                    encoding[0] = \"ge\"\n",
    "                elif encoding[0] == \"nq\":\n",
    "                    encoding[0] = \"eq\"\n",
    "                else:\n",
    "                    encoding[0] = \"nq\"\n",
    "                converted.append(encoding)\n",
    "        # Perform recursive descent (or other algorithms)\n",
    "        cur_assignment = []\n",
    "        if method == \"backtracking\" or method == \"robdd\":\n",
    "            success, solution = solve_SMT_kernel(converted, smt_vars, lowerbound, upperbound, cur_assignment)\n",
    "        else:\n",
    "            success, solution = solve_SMT_minconflicts_kernel(converted, smt_vars, lowerbound, upperbound)\n",
    "        if success:\n",
    "            return solution\n",
    "\n",
    "    return \"UNSAT\""
   ]
  },
  {
   "cell_type": "code",
   "execution_count": 17,
   "metadata": {
    "colab": {
     "base_uri": "https://localhost:8080/",
     "height": 35
    },
    "executionInfo": {
     "elapsed": 2047,
     "status": "ok",
     "timestamp": 1688449050140,
     "user": {
      "displayName": "Yiqi Zhao",
      "userId": "06013860432766583848"
     },
     "user_tz": -480
    },
    "id": "ZmTa1cWDvJR9",
    "outputId": "e155e08e-91bc-44b2-9fde-71b5694dc518",
    "pycharm": {
     "name": "#%%\n"
    }
   },
   "outputs": [
    {
     "data": {
      "application/vnd.google.colaboratory.intrinsic+json": {
       "type": "string"
      },
      "text/plain": [
       "'UNSAT'"
      ]
     },
     "execution_count": 17,
     "metadata": {},
     "output_type": "execute_result"
    }
   ],
   "source": [
    "solve_SMT([\"and\", \"x1\", \"x2\"], {\"x1\": [\"nq\", \"y1 - y2\", \"y1 + y2\"], \"x2\": [\"eq\", \"y2 + y1\", \"y1\"]},\n",
    "                              [\"y1\", \"y2\"], 0, 10)"
   ]
  },
  {
   "cell_type": "code",
   "execution_count": 18,
   "metadata": {
    "colab": {
     "base_uri": "https://localhost:8080/",
     "height": 35
    },
    "executionInfo": {
     "elapsed": 16,
     "status": "ok",
     "timestamp": 1688449050140,
     "user": {
      "displayName": "Yiqi Zhao",
      "userId": "06013860432766583848"
     },
     "user_tz": -480
    },
    "id": "V3S8GeQjvKKu",
    "outputId": "12e92f25-3bcd-421b-b377-4c4b9ba8e45e",
    "pycharm": {
     "name": "#%%\n"
    }
   },
   "outputs": [
    {
     "data": {
      "application/vnd.google.colaboratory.intrinsic+json": {
       "type": "string"
      },
      "text/plain": [
       "'UNSAT'"
      ]
     },
     "execution_count": 18,
     "metadata": {},
     "output_type": "execute_result"
    }
   ],
   "source": [
    "solve_SMT([\"and\", \"x1\", \"x2\"], {\"x1\": [\"nq\", \"y1 - y2\", \"y1 + y2\"], \"x2\": [\"eq\", \"y2 + y1\", \"y1\"]},\n",
    "                              [\"y1\", \"y2\"], 0, 10, method = \"backtracking\")"
   ]
  },
  {
   "cell_type": "code",
   "execution_count": 19,
   "metadata": {
    "colab": {
     "base_uri": "https://localhost:8080/"
    },
    "executionInfo": {
     "elapsed": 13,
     "status": "ok",
     "timestamp": 1688449050140,
     "user": {
      "displayName": "Yiqi Zhao",
      "userId": "06013860432766583848"
     },
     "user_tz": -480
    },
    "id": "d4p3KDq4vYjl",
    "outputId": "9ffe8d89-79d2-4e9b-c758-e2903bd330b0",
    "pycharm": {
     "name": "#%%\n"
    }
   },
   "outputs": [
    {
     "data": {
      "text/plain": [
       "{'y1': 6, 'y2': 4}"
      ]
     },
     "execution_count": 19,
     "metadata": {},
     "output_type": "execute_result"
    }
   ],
   "source": [
    "solve_SMT([\"and\", \"x1\", \"x2\"], {\"x1\": [\"eq\", \"y1 - 2\", \"y2\"], \"x2\": [\"gt\", \"y2 + y1\", 5]}, [\"y1\", \"y2\"], 0, 10)"
   ]
  },
  {
   "cell_type": "code",
   "execution_count": 20,
   "metadata": {
    "colab": {
     "base_uri": "https://localhost:8080/"
    },
    "executionInfo": {
     "elapsed": 10,
     "status": "ok",
     "timestamp": 1688449050140,
     "user": {
      "displayName": "Yiqi Zhao",
      "userId": "06013860432766583848"
     },
     "user_tz": -480
    },
    "id": "yQJfqzp3vZY7",
    "outputId": "7079ce4c-1dc1-4ba0-8c65-ea47acfcbfa8",
    "pycharm": {
     "name": "#%%\n"
    }
   },
   "outputs": [
    {
     "data": {
      "text/plain": [
       "{'y1': 4, 'y2': 2}"
      ]
     },
     "execution_count": 20,
     "metadata": {},
     "output_type": "execute_result"
    }
   ],
   "source": [
    "solve_SMT([\"and\", \"x1\", \"x2\"], {\"x1\": [\"eq\", \"y1 - 2\", \"y2\"], \"x2\": [\"gt\", \"y2 + y1\", 5]}, [\"y1\", \"y2\"], 0, 10, method = \"backtracking\")"
   ]
  },
  {
   "attachments": {},
   "cell_type": "markdown",
   "metadata": {
    "id": "8TzTZvcySEQp",
    "pycharm": {
     "name": "#%% md\n"
    }
   },
   "source": [
    "# Tutorial on using the SMT solver to solve NP-complete problems\n",
    "\n",
    "We will proceed to introduce some interesting problems we solve using our created SMT solver."
   ]
  },
  {
   "attachments": {},
   "cell_type": "markdown",
   "metadata": {
    "id": "vix1WJn-Sffg",
    "pycharm": {
     "name": "#%% md\n"
    }
   },
   "source": [
    "## Graph Coloring\n",
    "\n",
    "Graph coloring is an NP-complete problem. Specifically, we focus on vertex-coloring: Given an undirected graph and a number of colors allowed, assign each node in the graph a color such that there does not exist a pair of adjacent nodes with the same color. The default SMT kernel used for this solver is backtracking.\n",
    "\n",
    "We create the solve_graph_coloring function. The two arguments are graph, which is an adjacency list representation of a graph, and num_colors, which denotes the maximum number of colors allowed to color the graph. The function returns the assignment of chromatic numbers to each node if the problem is solvable (if the node does not appear in the assignment, it can be any color within the set of all chromatic numbers). In the case of an unsolvable problem, the solver returns \"UNSAT\".\n",
    "\n",
    "Internally, the solver constructs the SMT encoding in the following way: 1) Each SMT clause dictates that the chromatic number of a node cannot be equal to that of one of its adjacent node. 2) Form the SAT representation of the SMT clauses by taking conjunctions of the SMT clauses, which cover all possible edges of the graph. 3) Use the SMT solver to solve the encoded SMT problem."
   ]
  },
  {
   "cell_type": "code",
   "execution_count": 21,
   "metadata": {
    "executionInfo": {
     "elapsed": 8,
     "status": "ok",
     "timestamp": 1688449050140,
     "user": {
      "displayName": "Yiqi Zhao",
      "userId": "06013860432766583848"
     },
     "user_tz": -480
    },
    "id": "Hpgh3JfcSKI1",
    "pycharm": {
     "name": "#%%\n"
    }
   },
   "outputs": [],
   "source": [
    "def solve_graph_coloring(graph, num_colors, method='backtracking'):\n",
    "    if num_colors > len(list(graph.keys())):\n",
    "        raise Exception(\"The maximum number of colors cannot be larger than the number of nodes in the graph.\")\n",
    "\n",
    "    # Formulate the SMT representation:\n",
    "\n",
    "    # First, formulate the SMT encoding:\n",
    "    smt_variables = set()\n",
    "    smt_encoding = dict()\n",
    "    index = 0\n",
    "    for node in graph:\n",
    "        connections = graph[node]\n",
    "        for connected_node in connections:\n",
    "            smt_encoding[\"x\" + str(index)] = [\"nq\", node, connected_node]\n",
    "            smt_variables.add(node)\n",
    "            smt_variables.add(connected_node)\n",
    "            index += 1\n",
    "    smt_variables = list(smt_variables)\n",
    "\n",
    "    if len(smt_variables) == 0:\n",
    "        raise Exception(\"The maximum number of SMT Variables cannot be 0 for graph coloring.\")\n",
    "\n",
    "    # Now, formulate the SAT encoding:\n",
    "    sat_encoding = []\n",
    "    if len(smt_encoding.keys()) == 1:\n",
    "        sat_encoding = list(smt_encoding.keys())[0]\n",
    "    else:\n",
    "        for sat_node in smt_encoding:\n",
    "            if len(sat_encoding) == 0:\n",
    "                sat_encoding = sat_node\n",
    "            else:\n",
    "                sat_encoding = [\"and\", sat_node, sat_encoding]\n",
    "\n",
    "    # Find the lower and upper bound.\n",
    "    lower_bound = 0\n",
    "    upper_bound = num_colors - 1\n",
    "\n",
    "    return solve_SMT(sat_encoding, smt_encoding, smt_variables, lower_bound, upper_bound, method = method)"
   ]
  },
  {
   "cell_type": "code",
   "execution_count": 22,
   "metadata": {
    "colab": {
     "base_uri": "https://localhost:8080/"
    },
    "executionInfo": {
     "elapsed": 9,
     "status": "ok",
     "timestamp": 1688449050141,
     "user": {
      "displayName": "Yiqi Zhao",
      "userId": "06013860432766583848"
     },
     "user_tz": -480
    },
    "id": "Ix8nVlfxS-PU",
    "outputId": "66ecf46c-4b76-4446-9eab-caad2f475b09",
    "pycharm": {
     "name": "#%%\n"
    }
   },
   "outputs": [
    {
     "name": "stdout",
     "output_type": "stream",
     "text": [
      "Solving Graph Coloring Problem: Example 1 --> Expected: UNSAT\n",
      "Solution from our solver: UNSAT\n",
      "\n",
      "Solving Graph Coloring Problem: Example 2 --> Expected: This should be solvable.\n",
      "Solution from our solver: {'y3': 0, 'y1': 1, 'y4': 0, 'y2': 2}\n",
      "\n"
     ]
    }
   ],
   "source": [
    "# Let's try some examples:\n",
    "\n",
    "# Let the graph be:\n",
    "graph = {\n",
    "    \"y1\" : [\"y2\", \"y3\", \"y4\"],\n",
    "    \"y2\": [\"y3\"],\n",
    "    \"y3\": [\"y2\"],\n",
    "    \"y4\": []\n",
    "}\n",
    "\n",
    "# There needs to be at least one connection.\n",
    "\n",
    "# This graph is:\n",
    "#        y1\n",
    "#       / | \\\n",
    "#      y2 y4 |\n",
    "#      |     |\n",
    "#      ------y3\n",
    "\n",
    "# Now, solve the problem with our solver.\n",
    "\n",
    "# First, solve the problem with only 2 colors. This should return UNSAT:\n",
    "print(\"Solving Graph Coloring Problem: Example 1 --> Expected: UNSAT\")\n",
    "print(\"Solution from our solver:\", solve_graph_coloring(graph, 2))\n",
    "print()\n",
    "\n",
    "# Now, solve the problem with 3 colors. This is solvable.\n",
    "print(\"Solving Graph Coloring Problem: Example 2 --> Expected: This should be solvable.\")\n",
    "print(\"Solution from our solver:\", solve_graph_coloring(graph, 3))\n",
    "print()"
   ]
  },
  {
   "attachments": {},
   "cell_type": "markdown",
   "metadata": {
    "id": "zOi8PU6LTjr4",
    "pycharm": {
     "name": "#%% md\n"
    }
   },
   "source": [
    "## N-Queens Problem\n",
    "\n",
    "In the N-queens problem, given an n by n sized chess board, the algorithm is asked to place n queens on the board such that no two queen attack each other. The default SMT kernel used for this problem is backtracking.\n",
    "\n",
    "We write the solve_n_queens function. The parameter is num_queens, which represents the number of queens to be palced (which is equivalent to the length of a side of the square chess board). The function, if the problem is solvable, will return a matrix representing the board, where the 1s denote the placement of the queens and 0s denote empty positions. If the given problem is not solvable, the solver will return \"UNSAT\".\n",
    "\n",
    "Inside the solver, each SMT variable represents a column, and the assignmnent to that variable represents the row index of the queen in that column. Then, in the SMT encodings, the solver is supported with representations that no two queen can be in the same row and no two queens can be in the same diagonal. The SAT encoding further abstracts the SMT encodings by connecting the SMT encodings with conjunctions. If the problem is solvable, with the solution, the algorithm transforms the solution into a matrix representation of the chess board."
   ]
  },
  {
   "cell_type": "code",
   "execution_count": 23,
   "metadata": {
    "executionInfo": {
     "elapsed": 8,
     "status": "ok",
     "timestamp": 1688449050141,
     "user": {
      "displayName": "Yiqi Zhao",
      "userId": "06013860432766583848"
     },
     "user_tz": -480
    },
    "id": "MG4OTNbtUAMK",
    "pycharm": {
     "name": "#%%\n"
    }
   },
   "outputs": [],
   "source": [
    "import numpy as np\n",
    "\n",
    "def solve_n_queens(num_queens, method='backtracking'):\n",
    "    # For the queens to not attack each other, they must be already in different columns.\n",
    "    # The algorithm needs to find the row position of each queen in different columns.\n",
    "\n",
    "    # First, formulate the smt variables, which represent the row position of each queen.\n",
    "    smt_vars = []\n",
    "    for i in range(num_queens):\n",
    "        smt_vars.append(\"y\" + str(i))\n",
    "\n",
    "    # Now, find the smt encoding.\n",
    "    # Ensure that no variables are in the same row:\n",
    "    smt_encoding = dict()\n",
    "    index = 0\n",
    "    for i in range(len(smt_vars)):\n",
    "        for j in range(i + 1, len(smt_vars)):\n",
    "            smt_encoding[\"x\" + str(index)] = [\"nq\", smt_vars[i], smt_vars[j]]\n",
    "            index += 1\n",
    "\n",
    "    # Ensure that no variables are in the same diagonal.\n",
    "    for i in range(len(smt_vars)):\n",
    "        column_1 = int(smt_vars[i][1:])\n",
    "        for j in range(i + 1, len(smt_vars)):\n",
    "            column_2 = int(smt_vars[j][1:])\n",
    "            smt_encoding[\"x\" + str(index)] = [\"nq\", smt_vars[i] + \" - \" + smt_vars[j], column_1 - column_2]\n",
    "            index += 1\n",
    "            smt_encoding[\"x\" + str(index)] = [\"nq\", smt_vars[i] + \" - \" + smt_vars[j], column_2 - column_1]\n",
    "            index += 1\n",
    "\n",
    "    # Now, formulate the SAT encoding:\n",
    "    sat_encoding = []\n",
    "    if len(smt_encoding.keys()) == 1:\n",
    "        sat_encoding = list(smt_encoding.keys())[0]\n",
    "    else:\n",
    "        for sat_node in smt_encoding:\n",
    "            if len(sat_encoding) == 0:\n",
    "                sat_encoding = sat_node\n",
    "            else:\n",
    "                sat_encoding = [\"and\", sat_node, sat_encoding]\n",
    "\n",
    "    # Find the lower and upper bound.\n",
    "    lower_bound = 0\n",
    "    upper_bound = num_queens - 1\n",
    "    solution = solve_SMT(sat_encoding, smt_encoding, smt_vars, lower_bound, upper_bound, method = method)\n",
    "\n",
    "    if solution == \"UNSAT\":\n",
    "        return solution\n",
    "\n",
    "    # Now, configure the board:\n",
    "    # Use numpy array for better visualization.\n",
    "    board = np.array([[0] * num_queens] * num_queens)\n",
    "    for column_var in solution:\n",
    "        column = int(column_var[1:])\n",
    "        row = solution[column_var]\n",
    "        board[row][column] = 1\n",
    "    return board"
   ]
  },
  {
   "cell_type": "code",
   "execution_count": 24,
   "metadata": {
    "colab": {
     "base_uri": "https://localhost:8080/"
    },
    "executionInfo": {
     "elapsed": 5434,
     "status": "ok",
     "timestamp": 1688449055568,
     "user": {
      "displayName": "Yiqi Zhao",
      "userId": "06013860432766583848"
     },
     "user_tz": -480
    },
    "id": "VEXFTMaXU1Zb",
    "outputId": "c6fb2e0b-5f60-4e65-c245-48d933fa4125",
    "pycharm": {
     "name": "#%%\n"
    }
   },
   "outputs": [
    {
     "name": "stdout",
     "output_type": "stream",
     "text": [
      "Solving the N-Queens problem: Example 1 (N = 3) --> Expected: UNSAT\n",
      "Solution from the solver:\n",
      "UNSAT\n",
      "\n",
      "Solving the N-Queens problem: Example 2 (N = 4) --> Expected: This should be solvable.\n",
      "Solution from the solver:\n",
      "[[0 0 1 0]\n",
      " [1 0 0 0]\n",
      " [0 0 0 1]\n",
      " [0 1 0 0]]\n",
      "\n",
      "Solving the N-Queens problem: Example 2 (N = 8) --> Expected: This should be solvable. It may take a while.\n",
      "Solution from the solver:\n",
      "[[0 0 1 0 0 0 0 0]\n",
      " [0 0 0 0 0 0 1 0]\n",
      " [0 1 0 0 0 0 0 0]\n",
      " [0 0 0 0 0 0 0 1]\n",
      " [0 0 0 0 1 0 0 0]\n",
      " [1 0 0 0 0 0 0 0]\n",
      " [0 0 0 1 0 0 0 0]\n",
      " [0 0 0 0 0 1 0 0]]\n",
      "\n"
     ]
    }
   ],
   "source": [
    "# Let's try some examples:\n",
    "print(\"Solving the N-Queens problem: Example 1 (N = 3) --> Expected: UNSAT\")\n",
    "print(\"Solution from the solver:\")\n",
    "print(solve_n_queens(3, method = \"minconflicts\"))\n",
    "print()\n",
    "print(\"Solving the N-Queens problem: Example 2 (N = 4) --> Expected: This should be solvable.\")\n",
    "print(\"Solution from the solver:\")\n",
    "print(solve_n_queens(4, method = \"minconflicts\"))\n",
    "print()\n",
    "print(\"Solving the N-Queens problem: Example 2 (N = 8) --> Expected: This should be solvable. It may take a while.\")\n",
    "print(\"Solution from the solver:\")\n",
    "print(solve_n_queens(8, method = \"minconflicts\"))\n",
    "print()"
   ]
  },
  {
   "attachments": {},
   "cell_type": "markdown",
   "metadata": {
    "id": "CVTesAhUVQRP",
    "pycharm": {
     "name": "#%% md\n"
    }
   },
   "source": [
    "## Subset Sum\n",
    "\n",
    "Subset Sum, another NP-Complete problem, is stated as follows: Given a list, L, of positive integers, find the subset of the list that sum up to a given value, X. Using the SMT solver, we create a solver for Subset Sum. The default SMT kernel for this solver is backtracking.\n",
    "\n",
    "We write the solve_subset_sum function. There are two required parameters: 1) target_list denotes the list of nonnegative integers, L. 2) target_sum denotes the target, X, of the subset to be summed up to. There are two optional parameters. When the solver returns \"UNSAT\", the algorithm reports that the problem is not feasible. Otherwise, upon a successful completion, the solver returns a dictionary mapping each index of the list L to a number 1 or 0, where 1 represents the presence of the variable given by that index in the solution subset and 0 represents the non-existence.\n",
    "\n",
    "Internally, the solver encodes each index of the list to a variable, y_i, with potential values in {0, 1}. Then, the SMT_encoding denotes that sum(y_i * L[i]) == target_sum. The SAT_encoding connects the SMT representations via conjunctions."
   ]
  },
  {
   "cell_type": "code",
   "execution_count": 25,
   "metadata": {
    "executionInfo": {
     "elapsed": 14,
     "status": "ok",
     "timestamp": 1688449055569,
     "user": {
      "displayName": "Yiqi Zhao",
      "userId": "06013860432766583848"
     },
     "user_tz": -480
    },
    "id": "27UtE5E3Vj44",
    "pycharm": {
     "name": "#%%\n"
    }
   },
   "outputs": [],
   "source": [
    "def solve_subset_sum(target_list, target_sum, method='backtracking'):\n",
    "    for value in target_list:\n",
    "        if value <= 0:\n",
    "            raise Exception(\"List element must be positive.\")\n",
    "\n",
    "    if len(target_list) == 0:\n",
    "        return \"UNSAT\"\n",
    "\n",
    "    if not isinstance(target_sum, int):\n",
    "        raise Exception(\"Invalid type for target_sum.\")\n",
    "\n",
    "    # Formulate the SMT encoding.\n",
    "    smt_variables = set()\n",
    "    smt_encoding = dict()\n",
    "\n",
    "    index = 0\n",
    "    list_map = dict()\n",
    "    # Now, ensure that the sum of the variables is the target sum.\n",
    "    summation = \"\"\n",
    "    for i in range(len(target_list)):\n",
    "        list_var = f\"y{i}\"\n",
    "        list_map[list_var] = i\n",
    "        smt_variables.add(list_var)\n",
    "        if i == len(target_list) - 1:\n",
    "            summation += f\"y{i} * {target_list[i]}\"\n",
    "        else:\n",
    "            summation += f\"y{i} * {target_list[i]}+ \"\n",
    "    smt_encoding[\"x\" + str(index)] = [\"eq\", summation, target_sum]\n",
    "    smt_variables = list(smt_variables)\n",
    "\n",
    "    # Now, formulate the SAT encoding:\n",
    "    sat_encoding = []\n",
    "    if len(smt_encoding.keys()) == 1:\n",
    "        sat_encoding = list(smt_encoding.keys())[0]\n",
    "    else:\n",
    "        for sat_node in smt_encoding:\n",
    "            if len(sat_encoding) == 0:\n",
    "                sat_encoding = sat_node\n",
    "            else:\n",
    "                sat_encoding = [\"and\", sat_node, sat_encoding]\n",
    "    solution = solve_SMT(sat_encoding, smt_encoding, smt_variables, 0, 1, method = method)\n",
    "    if solution == \"UNSAT\":\n",
    "        return \"UNSAT\"\n",
    "\n",
    "    final_solution = dict()\n",
    "    for node in solution:\n",
    "        final_solution[list_map[node]] = solution[node]\n",
    "\n",
    "    return final_solution"
   ]
  },
  {
   "cell_type": "code",
   "execution_count": 26,
   "metadata": {
    "colab": {
     "base_uri": "https://localhost:8080/"
    },
    "executionInfo": {
     "elapsed": 13,
     "status": "ok",
     "timestamp": 1688449055569,
     "user": {
      "displayName": "Yiqi Zhao",
      "userId": "06013860432766583848"
     },
     "user_tz": -480
    },
    "id": "ZRBROTAKVpno",
    "outputId": "e8c607c9-beb0-463e-daa2-ed656ca64e04",
    "pycharm": {
     "name": "#%%\n"
    }
   },
   "outputs": [
    {
     "name": "stdout",
     "output_type": "stream",
     "text": [
      "Solving the subset sum problem: [1, 2] -> 1 --> Expected: SAT\n",
      "{1: 0, 0: 1}\n",
      "\n",
      "Solving the subset sum problem: [1, 2] -> 3 --> Expected: SAT\n",
      "{1: 1, 0: 1}\n",
      "\n",
      "Solving the subset sum problem: [1, 2] -> 4 --> Expected: UNSAT\n",
      "UNSAT\n",
      "\n"
     ]
    }
   ],
   "source": [
    "# Let's try some examples:\n",
    "print(\"Solving the subset sum problem: [1, 2] -> 1 --> Expected: SAT\")\n",
    "print(solve_subset_sum([1, 2], 1))\n",
    "print()\n",
    "print(\"Solving the subset sum problem: [1, 2] -> 3 --> Expected: SAT\")\n",
    "print(solve_subset_sum([1, 2], 3))\n",
    "print()\n",
    "print(\"Solving the subset sum problem: [1, 2] -> 4 --> Expected: UNSAT\")\n",
    "print(solve_subset_sum([1, 2], 4))\n",
    "print()"
   ]
  },
  {
   "attachments": {},
   "cell_type": "markdown",
   "metadata": {
    "id": "tqiMhBu2V7NM",
    "pycharm": {
     "name": "#%% md\n"
    }
   },
   "source": [
    "## Independent Set\n",
    "\n",
    "Independent Set is an NP-Complete Problem. We frame our variant of the Independent Set problem below:\n",
    "\n",
    "Find a set A, a subset of V, in an undirected graph G = (V, E), where every node in A is not adjacent to any other node in A and the cardinality of A is k.\n",
    "\n",
    "We also frame the maximum independent set problem as the problem to find A with largest possible k.\n",
    "\n",
    "The default SMT kernel for this solver is backtracking.\n",
    "\n",
    "We write the solve_independent_set function. There are two required parameters: 1) graph denotes the adjacency list representation of the undirected graph G. 2) target_cardinality denotes the cardinality, k, of the independent set, A. If the problem is solvable, the function will return a list of nodes, which is a candidate solution for A. Otherwise, \"UNSAT\" will be returned.\n",
    "\n",
    "We also create a solver for the maximum independent set problem: We write the find_maximum_independent_set function. The only required parameter is graph, which has the same meaning as the graph in the independent set problem solver.\n",
    "\n",
    "For the independent set problem solver, the algorithm treats each node to take either values of 0 and 1. The constraints are that the sum of the values of two adjacent nodes is less then 2, and the sum of all the nodes in the graph equals the target cardinality. The SMT representation is then solved using our solver for SMT problems. For the maximum independent set problem solver, the algorithm keeps calling the independent set problem solver with incrementally larger value of target cardinality with a incrementation of 1 until \"UNSAT\" is returned. Then, the algorithm returns the solution with target cardinality one smaller than the cardinality that triggers the infeasibility."
   ]
  },
  {
   "cell_type": "code",
   "execution_count": 27,
   "metadata": {
    "executionInfo": {
     "elapsed": 11,
     "status": "ok",
     "timestamp": 1688449055569,
     "user": {
      "displayName": "Yiqi Zhao",
      "userId": "06013860432766583848"
     },
     "user_tz": -480
    },
    "id": "rb99SsVNW57M",
    "pycharm": {
     "name": "#%%\n"
    }
   },
   "outputs": [],
   "source": [
    "def solve_independent_set(graph, target_cardinality, method='backtracking'):\n",
    "\n",
    "    # Check target_cardinality.\n",
    "    if target_cardinality < 1:\n",
    "        raise Exception(\"Target Cardinality must be at least 1.\")\n",
    "\n",
    "    # First, formulate the SMT encoding:\n",
    "    smt_variables = set()\n",
    "    smt_encoding = dict()\n",
    "    index = 0\n",
    "    for node in graph:\n",
    "        connections = graph[node]\n",
    "        smt_variables.add(node)\n",
    "        for connected_node in connections:\n",
    "            smt_encoding[\"x\" + str(index)] = [\"lt\", node + \" + \" + connected_node, 2]\n",
    "            smt_variables.add(connected_node)\n",
    "            index += 1\n",
    "\n",
    "    graph_nodes = list(graph.keys())\n",
    "    if len(graph_nodes) == 0:\n",
    "        raise Exception(\"Number of nodes in the graph cannot be 0.\")\n",
    "\n",
    "    # Assert that the sum is equal to target_cardinality.\n",
    "    summation = \"\"\n",
    "    for i in range(len(graph_nodes)):\n",
    "        if i == len(graph_nodes) - 1:\n",
    "            summation += graph_nodes[i]\n",
    "        else:\n",
    "            summation += (graph_nodes[i] + \" + \")\n",
    "    smt_encoding[summation] = [\"eq\", summation, target_cardinality]\n",
    "    smt_variables = list(smt_variables)\n",
    "\n",
    "    # Now, formulate the SAT encoding:\n",
    "    sat_encoding = []\n",
    "    if len(smt_encoding.keys()) == 1:\n",
    "        sat_encoding = list(smt_encoding.keys())[0]\n",
    "    else:\n",
    "        for sat_node in smt_encoding:\n",
    "            if len(sat_encoding) == 0:\n",
    "                sat_encoding = sat_node\n",
    "            else:\n",
    "                sat_encoding = [\"and\", sat_node, sat_encoding]\n",
    "\n",
    "    solution = solve_SMT(sat_encoding, smt_encoding, smt_variables, 0, 1, method = method)\n",
    "\n",
    "    if solution == \"UNSAT\":\n",
    "        return \"UNSAT\"\n",
    "\n",
    "    # Summarize the answer.\n",
    "    answer = []\n",
    "    for node in solution:\n",
    "        if node in graph and solution[node] == 1:\n",
    "            answer.append(node)\n",
    "    return answer\n",
    "\n",
    "\n",
    "def find_maximum_independent_set(graph, method = 'backtracking'):\n",
    "    i = 1\n",
    "    solution = solve_independent_set(graph, i, method = method)\n",
    "    prev_solution = solution\n",
    "    while solution != \"UNSAT\":\n",
    "        i += 1\n",
    "        prev_solution = solution\n",
    "        solution = solve_independent_set(graph, i, method=method)\n",
    "\n",
    "    return prev_solution"
   ]
  },
  {
   "cell_type": "code",
   "execution_count": 28,
   "metadata": {
    "colab": {
     "base_uri": "https://localhost:8080/"
    },
    "executionInfo": {
     "elapsed": 10,
     "status": "ok",
     "timestamp": 1688449055569,
     "user": {
      "displayName": "Yiqi Zhao",
      "userId": "06013860432766583848"
     },
     "user_tz": -480
    },
    "id": "tK8-rroCXD4l",
    "outputId": "1d08c23b-0f19-4f54-9dd1-eaaa80f57838",
    "pycharm": {
     "name": "#%%\n"
    }
   },
   "outputs": [
    {
     "name": "stdout",
     "output_type": "stream",
     "text": [
      "Solving independent set problem with cardinality 1 on the same graph for Problem 1. --> Expected: SAT\n",
      "['y2']\n",
      "Solving independent set problem with cardinality 3 on the same graph for Problem 1. --> Expected: UNSAT\n",
      "UNSAT\n",
      "Finding the maximum independent set --> Expected: SAT\n",
      "['y4', 'y2']\n",
      "\n"
     ]
    }
   ],
   "source": [
    "# Let's try some examples:\n",
    "\n",
    "# We reuse the graph from before:\n",
    "# This graph is:\n",
    "#        y1\n",
    "#       / | \\\n",
    "#      y2 y4 |\n",
    "#      |     |\n",
    "#      ------y3\n",
    "\n",
    "print(\"Solving independent set problem with cardinality 1 on the same graph for Problem 1. --> Expected: SAT\")\n",
    "print(solve_independent_set(graph, 1))\n",
    "print(\"Solving independent set problem with cardinality 3 on the same graph for Problem 1. --> Expected: UNSAT\")\n",
    "print(solve_independent_set(graph, 3))\n",
    "print(\"Finding the maximum independent set --> Expected: SAT\")\n",
    "print(find_maximum_independent_set(graph))\n",
    "print()"
   ]
  },
  {
   "attachments": {},
   "cell_type": "markdown",
   "metadata": {
    "id": "3eaMt5JXX-HK",
    "pycharm": {
     "name": "#%% md\n"
    }
   },
   "source": [
    "## Partition Problem\n",
    "\n",
    "The Partition Problem is NP-complete, and is defined below for our solver implementation:\n",
    "\n",
    "Given a list L, of integers, partition L into two sublists such that the sum of one sublist equals the sum of the other sublist.\n",
    "\n",
    "We only focus on integer lists because the SMT solver we implement only work for integer predicates. The default SMT kernel for this solver is backtracking.\n",
    "\n",
    "We write the solve_partition function. There is one required parameter, target_list, which is the list, L, to be analyzed. When the solver returns \"UNSAT\", the algorithm reports infeasibility. Otherwise, upon a successful completion, the solver returns two sublists that form the partition of the target list.\n",
    "\n",
    "Internally, the solver encodes each index of the list to a variable (y_i) with a potential values in {0, 1}. Then, the SMT_encoding represents sum(y_i * L[i]) * 2 == sum(L[i]). Thus, All variables that have the same assigned value form one group. The algorithm treats the two groups as the partition of the target list. In our SMT encoding, we also dictate that the sum of all y_i cannot be 0 or the length of the target list to prevent the case where a group among the two groups is an empty set."
   ]
  },
  {
   "cell_type": "code",
   "execution_count": 29,
   "metadata": {
    "executionInfo": {
     "elapsed": 8,
     "status": "ok",
     "timestamp": 1688449055569,
     "user": {
      "displayName": "Yiqi Zhao",
      "userId": "06013860432766583848"
     },
     "user_tz": -480
    },
    "id": "SexsZP5gYUDo",
    "pycharm": {
     "name": "#%%\n"
    }
   },
   "outputs": [],
   "source": [
    "def solve_partition(target_list, method = 'backtracking'):\n",
    "\n",
    "    if len(target_list) == 0:\n",
    "        return \"UNSAT\"\n",
    "\n",
    "    # Formulate the SMT encoding.\n",
    "    smt_variables = set()\n",
    "    smt_encoding = dict()\n",
    "\n",
    "    # Dictate the range of each variable and generate the temporary variables.\n",
    "    index = 0\n",
    "    list_vars = dict()\n",
    "    summation = \"\"\n",
    "    for i in range(len(target_list)):\n",
    "        smt_variables.add(f\"y{i}\")\n",
    "        list_vars[f\"y{i}\"] = i\n",
    "        if i == len(target_list) - 1:\n",
    "            summation += (f\"y{i} * {target_list[i]}\")\n",
    "        else:\n",
    "            summation += (f\"y{i} * {target_list[i]} + \")\n",
    "    smt_encoding[\"x\" + str(index)] = [\"eq\", f\"({summation}) * 2\", sum(target_list)]\n",
    "    index += 1\n",
    "\n",
    "    # Make sure that the sum is not 0 and is not the total cardinality.\n",
    "    summation = \"\"\n",
    "    for i in range(len(target_list)):\n",
    "        if i == len(target_list) - 1:\n",
    "            summation += f\"y{i}\"\n",
    "        else:\n",
    "            summation += f\"y{i} + \"\n",
    "    smt_encoding[\"x\" + str(index)] = [\"nq\", summation, 0]\n",
    "    index += 1\n",
    "    smt_encoding[\"x\" + str(index)] = [\"nq\", summation, len(target_list)]\n",
    "    smt_variables = list(smt_variables)\n",
    "\n",
    "    # Now, formulate the SAT encoding:\n",
    "    sat_encoding = []\n",
    "    if len(smt_encoding.keys()) == 1:\n",
    "        sat_encoding = list(smt_encoding.keys())[0]\n",
    "    else:\n",
    "        for sat_node in smt_encoding:\n",
    "            if len(sat_encoding) == 0:\n",
    "                sat_encoding = sat_node\n",
    "            else:\n",
    "                sat_encoding = [\"and\", sat_node, sat_encoding]\n",
    "\n",
    "    solution = solve_SMT(sat_encoding, smt_encoding, smt_variables, 0, 1, method = method)\n",
    "\n",
    "    if solution == \"UNSAT\":\n",
    "        return solution\n",
    "\n",
    "    group_0 = []\n",
    "    group_1 = []\n",
    "    for node in solution:\n",
    "        if solution[node] == 0:\n",
    "            group_0.append(target_list[list_vars[node]])\n",
    "        else:\n",
    "            group_1.append(target_list[list_vars[node]])\n",
    "\n",
    "    return group_0, group_1"
   ]
  },
  {
   "cell_type": "code",
   "execution_count": 30,
   "metadata": {
    "colab": {
     "base_uri": "https://localhost:8080/"
    },
    "executionInfo": {
     "elapsed": 8,
     "status": "ok",
     "timestamp": 1688449055569,
     "user": {
      "displayName": "Yiqi Zhao",
      "userId": "06013860432766583848"
     },
     "user_tz": -480
    },
    "id": "kZgYX5T0YlaE",
    "outputId": "f6a48fef-e983-4a42-b077-d14d7df37417",
    "pycharm": {
     "name": "#%%\n"
    }
   },
   "outputs": [
    {
     "name": "stdout",
     "output_type": "stream",
     "text": [
      "Solving the Partition Problem: [1, 5, 4] --> Expected: SAT\n",
      "([5], [4, 1])\n",
      "Solving the Partition Problem: [3, 3] --> Expected: SAT\n",
      "([3], [3])\n",
      "Solving the Partition Problem: [1, 2] --> Expected: UNSAT\n",
      "UNSAT\n"
     ]
    }
   ],
   "source": [
    "# Let's try some examples:\n",
    "print(\"Solving the Partition Problem: [1, 5, 4] --> Expected: SAT\")\n",
    "print(solve_partition([1, 5, 4]))\n",
    "print(\"Solving the Partition Problem: [3, 3] --> Expected: SAT\")\n",
    "print(solve_partition([3, 3]))\n",
    "print(\"Solving the Partition Problem: [1, 2] --> Expected: UNSAT\")\n",
    "print(solve_partition([1, 2]))"
   ]
  },
  {
   "attachments": {},
   "cell_type": "markdown",
   "metadata": {
    "id": "CEjMyUJdY_Aa",
    "pycharm": {
     "name": "#%% md\n"
    }
   },
   "source": [
    "# Conclusion\n",
    "\n",
    "In this tutorial, we introduced methods for SAT and SMT solving as well as how SMT solving can be applied to solving NP-complete problems. Please feel free to check out the python implementations, where we illustrate evaluations, testings, as well as natural language interfaces. If you have any questions or notice any mistake(s) in this tutorial, please feel free to email yiqi.zhao@vanderbilt.edu."
   ]
  }
 ],
 "metadata": {
  "colab": {
   "authorship_tag": "ABX9TyNI8s/VKeBgFnyNuLwYXSnB",
   "provenance": []
  },
  "kernelspec": {
   "display_name": "Python 3",
   "name": "python3"
  },
  "language_info": {
   "codemirror_mode": {
    "name": "ipython",
    "version": 3
   },
   "file_extension": ".py",
   "mimetype": "text/x-python",
   "name": "python",
   "nbconvert_exporter": "python",
   "pygments_lexer": "ipython3",
   "version": "3.9.12"
  }
 },
 "nbformat": 4,
 "nbformat_minor": 0
}